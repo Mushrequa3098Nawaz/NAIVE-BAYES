{
 "cells": [
  {
   "cell_type": "markdown",
   "metadata": {
    "colab_type": "text",
    "id": "TbwCOSBhwl34"
   },
   "source": [
    "#Bayes' Theorem \n",
    "\n",
    "It is said that the Reverend Thomas Bayes developed his rule on inverse probability while he was trying to prove the existence of God somewhere around 1740. He came up with a method for calculating the probability of an event occurring given that another event has occurred. Starting out with the prior probability (or believe) $P(A)$, when given a likelihood) $P(B\\ |\\ A)$ and evidence $P(B)$ we arrive at the posterior probability $P(A\\ |\\ B)$. Bayes Rule proves to be a powerful tool and is widely used in diverging areas like economics, artificial intelligence, medicine, journalism, military, just to name a few. Most spam filters use Bayes Rule in one way or another. The Bayes' Theorem formula is, posterior = likelihood times prior, over evidence:\n",
    "\n",
    "$$\n",
    "P(A\\ |\\ B)=\\frac{P(B\\ |\\ A)\\cdot P(A)}{P(B)}\n",
    "$$\n",
    "The practical power of Bayes Rule is that we often can't find the posterior directly, yet we do know the likelihood of the test and $P(A)$."
   ]
  },
  {
   "cell_type": "code",
   "execution_count": 1,
   "metadata": {
    "colab": {
     "base_uri": "https://localhost:8080/",
     "height": 34
    },
    "colab_type": "code",
    "id": "JiJqw-8Gn27q",
    "outputId": "3d51bb9a-3b8f-4124-bbd7-499adac2e30f"
   },
   "outputs": [
    {
     "name": "stdout",
     "output_type": "stream",
     "text": [
      "----------------------------------------------------------------------------------------------------\n"
     ]
    }
   ],
   "source": [
    "print(\"-\"*100)"
   ]
  },
  {
   "cell_type": "markdown",
   "metadata": {
    "colab_type": "text",
    "id": "Pt-CNCwbsgIr"
   },
   "source": [
    "\n",
    "\n",
    "\n",
    "\n",
    "Q1- What is the chance of someone having COPD (a life-threatening lung disease) given he or she is a smoker - $P(A|B)$. This statistic is hard to figure out, but we do know from medical studies the probability of someone being a smoker given that he/she has COPD - $P(B|A)$. We also know $P(B)$ - the probability that a person is a smoker and $P(A)$ - the chance that someone has COPD. The figures below are rough estimations:\n",
    "\n",
    "$$\n",
    "P(A)=0.07\\ \\small{having\\ COPD}\\\\\n",
    "P(B)=0.18\\ \\small{smokers}\\\\\n",
    "P(B\\ |\\ A)=0.85\\ \\small{is\\ or\\ was\\ smoker\\ and\\ given\\ COPD\\ diagnosis}\n",
    "$$\n"
   ]
  },
  {
   "cell_type": "code",
   "execution_count": 0,
   "metadata": {
    "colab": {},
    "colab_type": "code",
    "id": "zL06pf9CwJcM"
   },
   "outputs": [],
   "source": [
    "#Q1- Now Answer- What is the probability of someone having COPD given the person is or was a smoker?:"
   ]
  },
  {
   "cell_type": "code",
   "execution_count": 3,
   "metadata": {
    "colab": {},
    "colab_type": "code",
    "id": "L5Yub66Tsg5j"
   },
   "outputs": [],
   "source": [
    "#import packages\n",
    "import numpy as np\n",
    "import pandas as pd\n"
   ]
  },
  {
   "cell_type": "code",
   "execution_count": 5,
   "metadata": {
    "colab": {},
    "colab_type": "code",
    "id": "wRtFE-zJvYYk"
   },
   "outputs": [
    {
     "name": "stdout",
     "output_type": "stream",
     "text": [
      "<class 'pandas.core.frame.DataFrame'>\n",
      "RangeIndex: 2914 entries, 0 to 2913\n",
      "Data columns (total 3 columns):\n",
      "patient_id     2914 non-null int64\n",
      "test_result    2914 non-null object\n",
      "has_cancer     2914 non-null bool\n",
      "dtypes: bool(1), int64(1), object(1)\n",
      "memory usage: 48.5+ KB\n"
     ]
    }
   ],
   "source": [
    "#load dataset\n",
    "df = pd.read_csv('cancer_test_data.csv')\n",
    "df.info()"
   ]
  },
  {
   "cell_type": "code",
   "execution_count": 9,
   "metadata": {},
   "outputs": [
    {
     "name": "stdout",
     "output_type": "stream",
     "text": [
      "Chance of someone having COPD (a life-threatening lung disease) given he or she is a smoker is 0.3305555555555556\n"
     ]
    }
   ],
   "source": [
    "pa = 0.07\n",
    "pb = 0.18\n",
    "pba = 0.85\n",
    "pab = (pba * pa)/pb\n",
    "print(\"Chance of someone having COPD (a life-threatening lung disease) given he or she is a smoker is\", pab)"
   ]
  },
  {
   "cell_type": "markdown",
   "metadata": {
    "colab_type": "text",
    "id": "ewBwa6its0KQ"
   },
   "source": [
    "<a href='https://drive.google.com/open?id=1ygFo91YMrHECMX9g0XKq3flK9XepdHex'> Data Set Link 1</a>   Drive\n",
    "\n"
   ]
  },
  {
   "cell_type": "code",
   "execution_count": 56,
   "metadata": {},
   "outputs": [
    {
     "data": {
      "text/html": [
       "<div>\n",
       "<style scoped>\n",
       "    .dataframe tbody tr th:only-of-type {\n",
       "        vertical-align: middle;\n",
       "    }\n",
       "\n",
       "    .dataframe tbody tr th {\n",
       "        vertical-align: top;\n",
       "    }\n",
       "\n",
       "    .dataframe thead th {\n",
       "        text-align: right;\n",
       "    }\n",
       "</style>\n",
       "<table border=\"1\" class=\"dataframe\">\n",
       "  <thead>\n",
       "    <tr style=\"text-align: right;\">\n",
       "      <th></th>\n",
       "      <th>patient_id</th>\n",
       "      <th>test_result</th>\n",
       "      <th>has_cancer</th>\n",
       "    </tr>\n",
       "  </thead>\n",
       "  <tbody>\n",
       "    <tr>\n",
       "      <td>0</td>\n",
       "      <td>79452</td>\n",
       "      <td>Negative</td>\n",
       "      <td>False</td>\n",
       "    </tr>\n",
       "    <tr>\n",
       "      <td>1</td>\n",
       "      <td>81667</td>\n",
       "      <td>Positive</td>\n",
       "      <td>True</td>\n",
       "    </tr>\n",
       "    <tr>\n",
       "      <td>2</td>\n",
       "      <td>76297</td>\n",
       "      <td>Negative</td>\n",
       "      <td>False</td>\n",
       "    </tr>\n",
       "    <tr>\n",
       "      <td>3</td>\n",
       "      <td>36593</td>\n",
       "      <td>Negative</td>\n",
       "      <td>False</td>\n",
       "    </tr>\n",
       "    <tr>\n",
       "      <td>4</td>\n",
       "      <td>53717</td>\n",
       "      <td>Negative</td>\n",
       "      <td>False</td>\n",
       "    </tr>\n",
       "    <tr>\n",
       "      <td>...</td>\n",
       "      <td>...</td>\n",
       "      <td>...</td>\n",
       "      <td>...</td>\n",
       "    </tr>\n",
       "    <tr>\n",
       "      <td>2909</td>\n",
       "      <td>39378</td>\n",
       "      <td>Negative</td>\n",
       "      <td>False</td>\n",
       "    </tr>\n",
       "    <tr>\n",
       "      <td>2910</td>\n",
       "      <td>58684</td>\n",
       "      <td>Negative</td>\n",
       "      <td>False</td>\n",
       "    </tr>\n",
       "    <tr>\n",
       "      <td>2911</td>\n",
       "      <td>64038</td>\n",
       "      <td>Negative</td>\n",
       "      <td>False</td>\n",
       "    </tr>\n",
       "    <tr>\n",
       "      <td>2912</td>\n",
       "      <td>61290</td>\n",
       "      <td>Positive</td>\n",
       "      <td>False</td>\n",
       "    </tr>\n",
       "    <tr>\n",
       "      <td>2913</td>\n",
       "      <td>75721</td>\n",
       "      <td>Positive</td>\n",
       "      <td>False</td>\n",
       "    </tr>\n",
       "  </tbody>\n",
       "</table>\n",
       "<p>2914 rows × 3 columns</p>\n",
       "</div>"
      ],
      "text/plain": [
       "      patient_id test_result  has_cancer\n",
       "0          79452    Negative       False\n",
       "1          81667    Positive        True\n",
       "2          76297    Negative       False\n",
       "3          36593    Negative       False\n",
       "4          53717    Negative       False\n",
       "...          ...         ...         ...\n",
       "2909       39378    Negative       False\n",
       "2910       58684    Negative       False\n",
       "2911       64038    Negative       False\n",
       "2912       61290    Positive       False\n",
       "2913       75721    Positive       False\n",
       "\n",
       "[2914 rows x 3 columns]"
      ]
     },
     "execution_count": 56,
     "metadata": {},
     "output_type": "execute_result"
    }
   ],
   "source": [
    "df"
   ]
  },
  {
   "cell_type": "code",
   "execution_count": 51,
   "metadata": {
    "colab": {},
    "colab_type": "code",
    "id": "-hzLnvE-vgPx"
   },
   "outputs": [
    {
     "name": "stdout",
     "output_type": "stream",
     "text": [
      "proportion of patients who tested positive has cancer 0.3428217821782178\n"
     ]
    }
   ],
   "source": [
    "#Q2- What proportion of patients who tested positive has cancer?\n",
    "#patients who tested positive\n",
    "positive=df[df['test_result']=='Positive']\n",
    "\n",
    "#patients who tested positive ∩ has cancer\n",
    "x=positive[positive['has_cancer']==True]\n",
    "#probability for (the number of patients who tested positive ∩ has cancer)\n",
    "y=len(x)/len(df)\n",
    "#probability for the number for patients who tested positive\n",
    "z=len(positive)/len(df)\n",
    "#probability of the number of patients who tested positive while having cancer\n",
    "print(\"proportion of patients who tested positive has cancer\",y/z)\n"
   ]
  },
  {
   "cell_type": "code",
   "execution_count": 52,
   "metadata": {
    "colab": {},
    "colab_type": "code",
    "id": "6wzcxUD9vmt4"
   },
   "outputs": [
    {
     "name": "stdout",
     "output_type": "stream",
     "text": [
      "proportion of patients who tested positive has cancer 0.6571782178217822\n"
     ]
    }
   ],
   "source": [
    "#Q3- What proportion of patients who tested positive doesn't have cancer?\n",
    "\n",
    "print(\"proportion of patients who tested positive but doesn't have cancer\",(1-y/z))\n"
   ]
  },
  {
   "cell_type": "code",
   "execution_count": 53,
   "metadata": {
    "colab": {},
    "colab_type": "code",
    "id": "tniJH4yLvrGj"
   },
   "outputs": [
    {
     "name": "stdout",
     "output_type": "stream",
     "text": [
      "proportion of patients who tested negative has cancer 0.013770180436847104\n"
     ]
    }
   ],
   "source": [
    "#Q4- What proportion of patients who tested negative has cancer?\n",
    "\n",
    "negative=df[df['test_result']=='Negative']\n",
    "\n",
    "#patients who tested negative ∩ has cancer\n",
    "x=negative[negative['has_cancer']==True]\n",
    "#probability for (the number of patients who tested negative ∩ has cancer)\n",
    "y=len(x)/len(df)\n",
    "#probability for the number for patients who tested negative\n",
    "z=len(negative)/len(df)\n",
    "#probability of the number of patients who tested negative while having cancer\n",
    "print(\"proportion of patients who tested negative has cancer\",y/z)\n"
   ]
  },
  {
   "cell_type": "code",
   "execution_count": 55,
   "metadata": {
    "colab": {},
    "colab_type": "code",
    "id": "gHxm4eZVvsJ7"
   },
   "outputs": [
    {
     "name": "stdout",
     "output_type": "stream",
     "text": [
      "proportion of patients who tested negative doesn't have cancer 0.9862298195631529\n"
     ]
    }
   ],
   "source": [
    "#Q5- What proportion of patients who tested negative doesn't have cancer?\n",
    "\n",
    "print(\"proportion of patients who tested negative doesn't have cancer\",(1-y/z))\n"
   ]
  },
  {
   "cell_type": "code",
   "execution_count": 0,
   "metadata": {
    "colab": {},
    "colab_type": "code",
    "id": "4Oo_zWWyvvh_"
   },
   "outputs": [],
   "source": []
  }
 ],
 "metadata": {
  "colab": {
   "collapsed_sections": [],
   "name": "Conditional_Probability_&_Bayes_Assingment_1.ipynb",
   "provenance": []
  },
  "kernelspec": {
   "display_name": "Python 3",
   "language": "python",
   "name": "python3"
  },
  "language_info": {
   "codemirror_mode": {
    "name": "ipython",
    "version": 3
   },
   "file_extension": ".py",
   "mimetype": "text/x-python",
   "name": "python",
   "nbconvert_exporter": "python",
   "pygments_lexer": "ipython3",
   "version": "3.7.4"
  }
 },
 "nbformat": 4,
 "nbformat_minor": 1
}
